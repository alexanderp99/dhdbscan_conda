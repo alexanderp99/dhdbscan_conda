{
 "cells": [
  {
   "cell_type": "code",
   "execution_count": 1,
   "outputs": [],
   "source": [
    "from dhdbscan.HDBSCAN import HDBSCAN"
   ],
   "metadata": {
    "collapsed": false,
    "ExecuteTime": {
     "end_time": "2024-06-13T17:17:30.157239100Z",
     "start_time": "2024-06-13T17:17:29.391172700Z"
    }
   },
   "id": "9141455c5242bb3b"
  },
  {
   "cell_type": "markdown",
   "source": [
    "# Probleme mit HDBSCAN"
   ],
   "metadata": {
    "collapsed": false
   },
   "id": "c155cd1791f73b62"
  },
  {
   "cell_type": "markdown",
   "source": [
    "## Mutual Reachability Matrix\n",
    "\n",
    "In der Hdbscan Implementierung wird die Mutual Reachability effizient über eine Matrix operation berechnet. \n",
    "\n",
    "\n",
    "\"\"\"\n",
    "size = distance_matrix.shape[0]\n",
    "min_points = min(size - 1, min_points)\n",
    "try:\n",
    "    core_distances = np.partition(distance_matrix,\n",
    "                                  min_points,\n",
    "                                  axis=0)[min_points]\n",
    "except AttributeError:\n",
    "    core_distances = np.sort(distance_matrix,\n",
    "                             axis=0)[min_points]\n",
    "\n",
    "if alpha != 1.0:\n",
    "    distance_matrix = distance_matrix / alpha\n",
    "\n",
    "stage1 = np.where(core_distances > distance_matrix,\n",
    "                  core_distances, distance_matrix)\n",
    "result = np.where(core_distances > stage1.T,\n",
    "                  core_distances.T, stage1.T).T\n",
    "return result\"\"\"\n",
    "\n",
    "Input ist eine distanz matrix. Np.partition sortiert dann die distanz matrix. Das heißt alle core distanzen pro datenpunkt werden abgegriffen. Grundsätzlich sollte die Mutual reachability matrix symmetrisch sein. Es stellt sich jedoch heraus, dass dies nicht der Fall ist.\n",
    "\n"
   ],
   "metadata": {
    "collapsed": false
   },
   "id": "41e9bfce4a660ae4"
  },
  {
   "cell_type": "code",
   "execution_count": 53,
   "outputs": [
    {
     "name": "stdout",
     "output_type": "stream",
     "text": [
      "Iteration: 0\n",
      "Distance matrix is symmetric: False\n",
      "Mutual reachability matrix is symmetric: False\n",
      "\n",
      "Iteration: 1\n",
      "Distance matrix is symmetric: False\n",
      "Mutual reachability matrix is symmetric: False\n",
      "\n",
      "Iteration: 2\n",
      "Distance matrix is symmetric: False\n",
      "Mutual reachability matrix is symmetric: False\n"
     ]
    }
   ],
   "source": [
    "dataset = np.load('clusterable_data.npy')\n",
    "clusterer = HDBSCAN(min_points=15)\n",
    "clusterer.fit(dataset)\n",
    "clusterer"
   ],
   "metadata": {
    "collapsed": false,
    "ExecuteTime": {
     "end_time": "2024-06-13T17:10:10.598958500Z",
     "start_time": "2024-06-13T17:10:09.792194700Z"
    }
   },
   "id": "be42b700f3ef1b60"
  },
  {
   "cell_type": "markdown",
   "source": [
    "## Dendogram Linkage Matrix\n",
    "Die dendogram linakge matrix is zudem nicht deterministisch.\n",
    "\n",
    "$\\begin{tikzpicture}\n",
    "[\n",
    "    level 1/.style={sibling distance=25mm}\n",
    "]\n",
    "\t\\node {Root Node}\n",
    "\t\tchild {node {Left Child}}\n",
    "\t\tchild {node {Right Child}};\n",
    "\\end{tikzpicture}$"
   ],
   "metadata": {
    "collapsed": false
   },
   "id": "642cec99f0f986a6"
  },
  {
   "cell_type": "markdown",
   "source": [
    "## "
   ],
   "metadata": {
    "collapsed": false,
    "ExecuteTime": {
     "end_time": "2024-06-13T17:10:10.610746400Z",
     "start_time": "2024-06-13T17:10:10.601970200Z"
    }
   },
   "id": "6312715a4002b6cf"
  },
  {
   "cell_type": "code",
   "execution_count": 55,
   "outputs": [
    {
     "name": "stdout",
     "output_type": "stream",
     "text": [
      "Dataset:\n",
      "[[0.  1.  0.1]\n",
      " [3.  2.  0.2]\n",
      " [1.  2.  0.2]\n",
      " [3.  4.  0.3]]\n",
      "Single_linkage_tree:\n",
      "[[0.  1.  0.1 2. ]\n",
      " [3.  2.  0.2 2. ]\n",
      " [5.  6.  0.2 4. ]\n",
      " [7.  4.  0.3 5. ]]\n",
      "Labels: [ 0  0  1  1 -1]\n",
      "\n",
      "\n",
      "Dataset:\n",
      "[[0.  1.  0.1]\n",
      " [1.  2.  0.2]\n",
      " [3.  2.  0.2]\n",
      " [3.  4.  0.3]]\n",
      "Single_linkage_tree:\n",
      "[[0.  1.  0.1 2. ]\n",
      " [5.  2.  0.2 3. ]\n",
      " [3.  6.  0.2 4. ]\n",
      " [7.  4.  0.3 5. ]]\n",
      "Labels: [-1 -1 -1 -1 -1]\n"
     ]
    }
   ],
   "source": [],
   "metadata": {
    "collapsed": false,
    "ExecuteTime": {
     "end_time": "2024-06-13T17:10:10.647127600Z",
     "start_time": "2024-06-13T17:10:10.611746600Z"
    }
   },
   "id": "f64c327e5ca953c1"
  },
  {
   "cell_type": "code",
   "execution_count": 56,
   "outputs": [
    {
     "data": {
      "text/plain": "'dataset = np.array([[0,0],[0,0.1],[0,0.3],[0.2,0.3],[0.2,0.6]])\\n\\nfor i in range(3):\\n    np.random.seed(42)\\n    shuffled_indices = np.random.permutation(len(dataset))\\n    shuffled_data = dataset[shuffled_indices]\\n    clusterer = HDBSCAN(min_points=2)\\n    clusterer.fit_hdbscan(shuffled_data)\\n    print(\"Dataset:\")\\n    print(dataset)\\n    print(\"Single_linkage_tree:\")\\n    print(clusterer.single_linkage_tree)\\n    print(\"Labels:\", clusterer.labels_)\\n    print(\"\\n\")'"
     },
     "execution_count": 56,
     "metadata": {},
     "output_type": "execute_result"
    }
   ],
   "source": [],
   "metadata": {
    "collapsed": false,
    "ExecuteTime": {
     "end_time": "2024-06-13T17:10:10.655030600Z",
     "start_time": "2024-06-13T17:10:10.619483500Z"
    }
   },
   "id": "d5c0692aaeaff1c2"
  },
  {
   "cell_type": "markdown",
   "source": [
    "# Vergleich Implementierungen"
   ],
   "metadata": {
    "collapsed": false,
    "ExecuteTime": {
     "end_time": "2024-06-13T17:10:28.451347800Z",
     "start_time": "2024-06-13T17:10:27.739553900Z"
    }
   },
   "id": "9dad9ffede1b4f47"
  }
 ],
 "metadata": {
  "kernelspec": {
   "display_name": "Python 3",
   "language": "python",
   "name": "python3"
  },
  "language_info": {
   "codemirror_mode": {
    "name": "ipython",
    "version": 2
   },
   "file_extension": ".py",
   "mimetype": "text/x-python",
   "name": "python",
   "nbconvert_exporter": "python",
   "pygments_lexer": "ipython2",
   "version": "2.7.6"
  }
 },
 "nbformat": 4,
 "nbformat_minor": 5
}
